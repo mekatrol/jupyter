{
 "cells": [
  {
   "cell_type": "code",
   "execution_count": null,
   "id": "27101442",
   "metadata": {},
   "outputs": [],
   "source": [
    "#######################################################################################\n",
    "# Adapted from: https://www.youtube.com/watch?v=nkPNQk4-3UE\n",
    "#######################################################################################\n",
    "\n",
    "import string\n",
    "import numpy as np\n",
    "import pandas as pd\n",
    "\n",
    "import nltk\n",
    "from nltk.corpus import stopwords\n",
    "from nltk.stem.porter import PorterStemmer\n",
    "\n",
    "from sklearn.feature_extraction.text import CountVectorizer\n",
    "from sklearn.model_selection import train_test_split\n",
    "from sklearn.ensemble import RandomForestClassifier\n",
    "\n",
    "nltk.download('stopwords')\n"
   ]
  },
  {
   "cell_type": "code",
   "execution_count": null,
   "id": "d78a3529",
   "metadata": {},
   "outputs": [],
   "source": [
    "df = pd.read_csv('spam_ham_dataset.csv')\n",
    "df['text'] = df['text'].apply(lambda x: x.replace('\\r\\n', ' '))\n",
    "df.info()"
   ]
  },
  {
   "cell_type": "code",
   "execution_count": null,
   "id": "ea10fcb7",
   "metadata": {},
   "outputs": [],
   "source": [
    "stemmer = PorterStemmer()\n",
    "corpus = []\n",
    "\n",
    "stopwords_set = set(stopwords.words('english'))"
   ]
  },
  {
   "cell_type": "code",
   "execution_count": null,
   "id": "c89d8d53",
   "metadata": {},
   "outputs": [],
   "source": [
    "# Prepare email text \n",
    "def prepare_email_text(email_text):\n",
    "    email_text = email_text.lower().translate(str.maketrans('', '', string.punctuation)).split()\n",
    "    email_text = [stemmer.stem(word) for word in email_text if word not in stopwords_set]\n",
    "    email_text = ' '.join(email_text)\n",
    "    return email_text"
   ]
  },
  {
   "cell_type": "code",
   "execution_count": null,
   "id": "c6ab98ae",
   "metadata": {},
   "outputs": [],
   "source": [
    "for i in range(len(df)):\n",
    "    text = prepare_email_text(df['text'].iloc[i])\n",
    "    corpus.append(text)"
   ]
  },
  {
   "cell_type": "code",
   "execution_count": null,
   "id": "7e155fd3",
   "metadata": {},
   "outputs": [],
   "source": [
    "vectorizer = CountVectorizer()\n",
    "\n",
    "x = vectorizer.fit_transform(corpus).toarray()\n",
    "y = df.label_num\n",
    "\n",
    "x_train, x_test, y_train, y_test = train_test_split(x, y, train_size=0.2)"
   ]
  },
  {
   "cell_type": "code",
   "execution_count": null,
   "id": "54f9f408",
   "metadata": {},
   "outputs": [],
   "source": [
    "clf = RandomForestClassifier(n_jobs=-1)\n",
    "clf.fit(x_train, y_train)\n",
    "clf.score(x_test, y_test)"
   ]
  },
  {
   "cell_type": "code",
   "execution_count": null,
   "id": "a434c3c8",
   "metadata": {},
   "outputs": [],
   "source": [
    "email_to_classify = prepare_email_text(df.text.values[10])\n",
    "email_corpus = [email_to_classify]\n",
    "x_email = vectorizer.transform(email_corpus)\n"
   ]
  },
  {
   "cell_type": "code",
   "execution_count": null,
   "id": "b9a1a3b8",
   "metadata": {},
   "outputs": [],
   "source": [
    "clf.predict(x_email)"
   ]
  },
  {
   "cell_type": "code",
   "execution_count": null,
   "id": "82ca1d60",
   "metadata": {},
   "outputs": [],
   "source": [
    "df.label_num.iloc[10]"
   ]
  },
  {
   "cell_type": "code",
   "execution_count": null,
   "id": "66ace1cb",
   "metadata": {},
   "outputs": [],
   "source": [
    "email_data = []\n",
    "with open(\"emails.txt\", \"r\", encoding=\"utf-8\") as f:\n",
    "    email_data = [line.strip() for line in f if line.strip()]\n",
    "\n",
    "for text in email_data:\n",
    "    # preprocess the email text\n",
    "    processed_text = prepare_email_text(text)\n",
    "\n",
    "    # turn into vector\n",
    "    x_email = vectorizer.transform([processed_text])\n",
    "\n",
    "    # predict label (e.g., ['ham'] or ['spam'])\n",
    "    pred = clf.predict(x_email)[0]\n",
    "\n",
    "    # print prediction + first 100 chars of raw email\n",
    "    preview = text[:100] + (\"...\" if len(text) > 100 else \"\")\n",
    "    print(f\"{pred} → {preview}\")\n",
    "\n",
    "\n"
   ]
  }
 ],
 "metadata": {
  "kernelspec": {
   "display_name": ".venv",
   "language": "python",
   "name": "python3"
  },
  "language_info": {
   "codemirror_mode": {
    "name": "ipython",
    "version": 3
   },
   "file_extension": ".py",
   "mimetype": "text/x-python",
   "name": "python",
   "nbconvert_exporter": "python",
   "pygments_lexer": "ipython3",
   "version": "3.12.0"
  }
 },
 "nbformat": 4,
 "nbformat_minor": 5
}
